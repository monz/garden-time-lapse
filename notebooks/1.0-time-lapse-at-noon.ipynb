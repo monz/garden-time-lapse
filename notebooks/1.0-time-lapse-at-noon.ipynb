{
 "cells": [
  {
   "cell_type": "markdown",
   "metadata": {},
   "source": [
    "# Create Time-Lapse Video at Noon\n",
    "\n",
    "Before we can create the time-lapse video, we must select images which should be present in the video. We already did this, using only one image for each day of the year, around 12am and 1pm, see [image-selection-noon](./1.0-image-selection-noon.ipynb) notebook.\n",
    "\n",
    "The result of the image selection process, was a list of images potentially selected for the time-lapse video. Why potentially? Because we do not know whether the selected images correspond to the *open* or *closed* class, yet. For this we use our already trained *logistic-regression* model to determine the class of each image. Once we classified each image, we can create our time-lapse video, considering only images related to the *open* class.\n",
    "\n",
    "We load our pre-trained model from the filesystem and predict the class for each image in the image directory given to the model. Features must not be extracted manually, this will automatically be done by the special prediction method call."
   ]
  },
  {
   "cell_type": "code",
   "execution_count": 24,
   "metadata": {},
   "outputs": [
    {
     "name": "stdout",
     "output_type": "stream",
     "text": [
      "Number of 'closed' images: 26 out of 363\n",
      "Paths of 'closed' files\n",
      "7      ../data/interim/selected-images-noon/pic_14936...\n",
      "14     ../data/interim/selected-images-noon/pic_14954...\n",
      "19     ../data/interim/selected-images-noon/pic_14967...\n",
      "34     ../data/interim/selected-images-noon/pic_15021...\n",
      "42     ../data/interim/selected-images-noon/pic_15050...\n",
      "50     ../data/interim/selected-images-noon/pic_15082...\n",
      "52     ../data/interim/selected-images-noon/pic_15089...\n",
      "54     ../data/interim/selected-images-noon/pic_15091...\n",
      "69     ../data/interim/selected-images-noon/pic_15166...\n",
      "90     ../data/interim/selected-images-noon/pic_15027...\n",
      "99     ../data/interim/selected-images-noon/pic_15004...\n",
      "110    ../data/interim/selected-images-noon/pic_15012...\n",
      "111    ../data/interim/selected-images-noon/pic_15003...\n",
      "114    ../data/interim/selected-images-noon/pic_15011...\n",
      "116    ../data/interim/selected-images-noon/pic_14937...\n",
      "142    ../data/interim/selected-images-noon/pic_15096...\n",
      "162    ../data/interim/selected-images-noon/pic_15167...\n",
      "180    ../data/interim/selected-images-noon/pic_15087...\n",
      "181    ../data/interim/selected-images-noon/pic_15056...\n",
      "184    ../data/interim/selected-images-noon/pic_15098...\n",
      "225    ../data/interim/selected-images-noon/pic_14940...\n",
      "239    ../data/interim/selected-images-noon/pic_14959...\n",
      "279    ../data/interim/selected-images-noon/pic_15059...\n",
      "296    ../data/interim/selected-images-noon/pic_14993...\n",
      "301    ../data/interim/selected-images-noon/pic_15078...\n",
      "326    ../data/interim/selected-images-noon/pic_15013...\n",
      "Name: file, dtype: object\n"
     ]
    }
   ],
   "source": [
    "from src.models import predict_model\n",
    "\n",
    "IMG_DIR = '../data/interim/selected-images-noon'\n",
    "MODEL_PATH = \"../models/logreg-clf-notebook.joblib\"\n",
    "CLOSED_CLASS = 1\n",
    "\n",
    "clf = predict_model.load_model(MODEL_PATH)\n",
    "result = predict_model.extract_features_predict(IMG_DIR, clf)\n",
    "\n",
    "# how many images were detected as 'closed'\n",
    "closed_total = result['prediction'].sum()\n",
    "print(\"Number of 'closed' images: {} out of {}\".format(closed_total, result.shape[0]))\n",
    "\n",
    "# display all rows where predicted class was 'closed'\n",
    "print(\"Paths of 'closed' files\")\n",
    "closed_file_paths = result[result['prediction'] == CLOSED_CLASS]['file']\n",
    "print(closed_file_paths)"
   ]
  },
  {
   "cell_type": "markdown",
   "metadata": {},
   "source": [
    "Our model determined **26** out of **363** images to be in the *closed* class. Some will notice that we only have selected 363 images, instead of having 365 to span an entire year. It is possible that there were no images for some days in the given timeframe, *noon +/- 5 minutes*, and therefore, not every day has been considered  in the selection process.\n",
    "\n",
    "For the time-lapse video, select images of class *open*, only. Therefore, we save the file paths identified to be member of the *open* class into a text file. This text file will later be used as list of selected images for video creation on the linux command line."
   ]
  },
  {
   "cell_type": "code",
   "execution_count": 15,
   "metadata": {},
   "outputs": [],
   "source": [
    "# write image paths to file, which were identified to be member in *open* class\n",
    "OPEN_IMAGES_FILE = '../data/processed/file-paths-noon-open.txt'\n",
    "OPEN_CLASS = 0\n",
    "\n",
    "open_file_paths = result[result['prediction'] == OPEN_CLASS]['file']\n",
    "\n",
    "open_file_paths.to_csv(OPEN_IMAGES_FILE, header = False, index = False)"
   ]
  },
  {
   "cell_type": "markdown",
   "metadata": {},
   "source": [
    "## Create Time-Lapse video\n",
    "\n",
    "Use *ffmpeg* to create the time-lapse video. The next command consists of multiple steps, *piped* or *chained* together to form a *single* command, which does the following\n",
    "\n",
    "1. read each file path from file we just created, using *cat*\n",
    "1. search for filenames, using regex pattern, *grep*\n",
    "1. sort filenames, to get them in ascending order\n",
    "1. use *xargs* to execute *find* for each filename\n",
    "1. use *find* to get file path, exec *cat* to get *bytes* of each file\n",
    "1. use *ffmpeg* to create time-lapse video, incl. timestamp as watermark, which is read from images' EXIF metadata\n",
    "\n",
    "\n",
    "```\n",
    "$ cat ../data/processed/file-paths-noon-open.txt | \\\n",
    "    grep -oE \"pic_[0-9]{10}.jpg\" | \\\n",
    "    sort | \\\n",
    "    xargs -I# find ../data/interim/selected-images-noon -name \"*#*\" -exec cat {} \\; | \\\n",
    "    ffmpeg -r 24 -f image2pipe -i - -filter_complex \"drawtext=fontfile=/Windows/Fonts/arial.ttf:text='timestamp \\: %{metadata\\:DateTime}':x=5:y=5:fontsize=24:fontcolor=white@0.9:box=1:boxcolor=blue@0.6\" -s 1024x768 -vcodec libx264 time-lapse-noon.mp4\n",
    "```"
   ]
  },
  {
   "cell_type": "code",
   "execution_count": 23,
   "metadata": {},
   "outputs": [
    {
     "data": {
      "text/plain": [
       "0"
      ]
     },
     "execution_count": 23,
     "metadata": {},
     "output_type": "execute_result"
    }
   ],
   "source": [
    "import os\n",
    "\n",
    "COMMAND = 'cat {filenames} | \\\n",
    "    grep -oE \"pic_[0-9]{{10}}.jpg\" | \\\n",
    "    sort | \\\n",
    "    xargs -I# find {image_dir} -name \"*#*\" -exec cat {{}} \\; | \\\n",
    "    ffmpeg -r 24 -f image2pipe -i - -filter_complex \\\n",
    "        \"drawtext=fontfile={font_file}:text=\\'timestamp \\: %{{metadata\\:DateTime}}\\':x=5:y=5:fontsize=24:fontcolor=white@0.9:box=1:boxcolor=blue@0.6\" \\\n",
    "        -s 1024x768 -vcodec libx264 {video_file_name}'\n",
    "\n",
    "IMAGE_DIR = '../data/interim/selected-images-noon/' # trailing slash required, due to symlinking\n",
    "VIDEO_FILE_NAME = '../data/processed/time-lapse-noon.mp4'\n",
    "FONT_FILE = '/usr/share/fonts/TTF/DejaVuSans.ttf'\n",
    "\n",
    "# delete existing video, otherwise command will fail\n",
    "if os.path.exists(VIDEO_FILE_NAME):\n",
    "  os.remove(VIDEO_FILE_NAME)\n",
    "\n",
    "# execute command\n",
    "os.system(COMMAND.format(\n",
    "    filenames = OPEN_IMAGES_FILE,\n",
    "    image_dir = IMAGE_DIR,\n",
    "    video_file_name = VIDEO_FILE_NAME,\n",
    "    font_file = FONT_FILE) )"
   ]
  },
  {
   "cell_type": "markdown",
   "metadata": {},
   "source": [
    "## Result\n",
    "\n",
    "With a frame rate set to *24* images per second, we get a video of 14 seconds. It's quiet nice to see the vegetation in all four seasons.\n",
    "\n",
    "If we take a close look, we can determine that in a single frame there was a *closed shutter* image. This means that our trained logistic-regression classifier was not able to detect this image correctly, and we have one *false negative* in this case. The rest of the time-lapse video looks ok-ish, at least considering correct image classification, only. However, there are some frames showing clearly visible reflections and we may choose another time frame to reduce reflections, e.g. choose some time in the early afternoon."
   ]
  },
  {
   "cell_type": "markdown",
   "metadata": {},
   "source": [
    "<!-- Simple video example -->\n",
    "<video src=\"../data/processed/time-lapse-noon.mp4\" autoplay width=800px loop=true type=\"video/mp4\" controls>\n",
    "  Sorry, your browser doesn't support embedded videos, \n",
    "  but don't worry, you can <a href=\"../data/processed/time-lapse-noon.mp4\">download it</a>\n",
    "  and watch it with your favorite video player!\n",
    "</video>\n",
    "\n",
    "[external link](https://drive.google.com/file/d/1y6d_VMWg0dm1nIgvE1iljanSD3jEP345/preview)"
   ]
  }
 ],
 "metadata": {
  "kernelspec": {
   "display_name": "Python 3",
   "language": "python",
   "name": "python3"
  },
  "language_info": {
   "codemirror_mode": {
    "name": "ipython",
    "version": 3
   },
   "file_extension": ".py",
   "mimetype": "text/x-python",
   "name": "python",
   "nbconvert_exporter": "python",
   "pygments_lexer": "ipython3",
   "version": "3.8.5"
  }
 },
 "nbformat": 4,
 "nbformat_minor": 4
}
