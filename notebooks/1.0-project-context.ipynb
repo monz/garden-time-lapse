{
 "cells": [
  {
   "cell_type": "markdown",
   "metadata": {},
   "source": [
    "# The Vegetation in Four Seasons\n",
    "-------\n",
    "## What Data\n",
    "So we got some data. More precisely we got some image data which was recorded by a RaspberryPi with camera module. The pictures depict a home garden, see example pictures 1 and 2. We have quite a lot of pictures, over **120k** using about more than **400GB** of disk space. Images were captured about **every other minute over one year**, not taking any pictures when a certain darkness level was reached."
   ]
  },
  {
   "cell_type": "markdown",
   "metadata": {},
   "source": [
    "<table>\n",
    "<tr>\n",
    "    <td> <figure>\n",
    "        <img src=\"../data/raw/example/open/pic_1492067569.jpg\" width=350/> </figure>\n",
    "        <figcaption>Example 1</figcaption>\n",
    "    </td>\n",
    "    <td>\n",
    "        <img src=\"../data/raw/example/open/pic_1495255809.jpg\" width=350/>\n",
    "        <figcaption>Example 2</figcaption>\n",
    "    </td>\n",
    "</tr>\n",
    "</table>"
   ]
  },
  {
   "cell_type": "markdown",
   "metadata": {},
   "source": [
    "## The Goal\n",
    "\n",
    "As we can see those pictures were taken using a Fish-Eye lense. This is quite nice and the goal is to make a lovely time-lapse video out of some of the pictures to capture the change of the vegetation over one year spanning spring, sommer, autumn and winter.\n",
    "\n",
    "However, as in most data sets the data is not as clean as we would wish it is. So it is with this dataset. While skimming through the data we can find some images not showing the garden, but having the shutter closed, see following examples. Although, there were a certain kind of darkness threshold to exclude pictures taken at night, this darkness level was not reached."
   ]
  },
  {
   "cell_type": "markdown",
   "metadata": {},
   "source": [
    "<table>\n",
    "<tr>\n",
    "    <td> <figure>\n",
    "        <img src=\"../data/raw/example/closed/pic_1492152349.jpg\" width=350/> </figure>\n",
    "        <figcaption>Example 1</figcaption>\n",
    "    </td>\n",
    "    <td>\n",
    "        <img src=\"../data/raw/example/closed/pic_1494511609.jpg\" width=350/>\n",
    "        <figcaption>Example 2</figcaption>\n",
    "    </td>\n",
    "    <td>\n",
    "        <img src=\"../data/raw/example/closed/pic_1494775389.jpg\" width=350/>\n",
    "        <figcaption>Example 3</figcaption>\n",
    "    </td>\n",
    "</tr>\n",
    "</table>"
   ]
  },
  {
   "cell_type": "markdown",
   "metadata": {},
   "source": [
    "Before we can stitch together all those images to get our time-lapse video we must clean the dataset to get rid of those images having the shutters closed.\n",
    "\n",
    "> Note: Closed shutters is not the only image defect we can find in this dataset. There are also some images where the sun is standing low such that the image is overexposed and reflections of the the window can be seen. However, at first we want to consider only the most obvious defect.\n",
    "\n",
    "Now, lets start the journey with the first step and do some **exploratory data analysis**, see the next Jupyter-Notebook."
   ]
  }
 ],
 "metadata": {
  "kernelspec": {
   "display_name": "Python 3",
   "language": "python",
   "name": "python3"
  },
  "language_info": {
   "codemirror_mode": {
    "name": "ipython",
    "version": 3
   },
   "file_extension": ".py",
   "mimetype": "text/x-python",
   "name": "python",
   "nbconvert_exporter": "python",
   "pygments_lexer": "ipython3",
   "version": "3.8.5"
  }
 },
 "nbformat": 4,
 "nbformat_minor": 4
}
