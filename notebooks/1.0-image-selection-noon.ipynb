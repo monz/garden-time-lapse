{
 "cells": [
  {
   "cell_type": "code",
   "execution_count": 91,
   "metadata": {},
   "outputs": [],
   "source": [
    "import pandas as pd\n",
    "import numpy as np\n",
    "import datetime\n",
    "\n",
    "ALL_TIMESTAMPS_FILE = '../data/raw/image-timestamps.txt'\n",
    "SELECTED_TIMESTAMPS_FILE = '../data/processed/selected-image-timestamps-noon.txt'\n",
    "\n",
    "\n",
    "# get first and last day of image capturing\n",
    "# skip last entry, which was erroneous, have to use\n",
    "# 'python' engine instead of faster 'c' engine due to skipping\n",
    "timestamps = pd.read_csv(\n",
    "    ALL_TIMESTAMPS_FILE,\n",
    "    names = ['timestamp'],\n",
    "    skipfooter = 1,\n",
    "    engine = 'python',\n",
    "    dtype = {'timestamp': np.int64} )"
   ]
  },
  {
   "cell_type": "code",
   "execution_count": null,
   "metadata": {},
   "outputs": [],
   "source": [
    "# get first and last entry\n",
    "first_timestamp = timestamps.head(1).iloc[0, 0]\n",
    "last_timestamp = timestamps.tail(1).iloc[0, 0]\n",
    "print(\"First timestamp: {}\".format(first_timestamp))\n",
    "print(\"Last timestamp: {}\".format(last_timestamp))\n",
    "\n",
    "# get dates\n",
    "first_day = datetime.datetime.fromtimestamp(first_timestamp)\n",
    "last_day = datetime.datetime.fromtimestamp(last_timestamp)\n",
    "print(\"First day: {}\".format(first_day))\n",
    "print(\"Last day: {}\".format(last_day))\n",
    "\n",
    "# get time range, total amount of days\n",
    "timedelta = last_day - first_day\n",
    "total_number_of_days = timedelta.days\n",
    "print(\"Total number of days: {}\".format(total_number_of_days))\n",
    "\n",
    "# we want one image for each day at noon\n",
    "# therefore we search for images each day within a\n",
    "# range of +/- 5 minutes around noon because image \n",
    "# capturing was not scheduled at noon but images\n",
    "# were captured about every other minute\n",
    "\n",
    "# get start/end timestamp, first_day/last_day at noon\n",
    "first_day_noon = first_day.replace(hour = 12, minute = 0, second = 0, microsecond = 0)\n",
    "last_day_noon = last_day.replace(hour = 12, minute = 0, second = 0, microsecond = 0)\n",
    "\n",
    "# jump one day each iteration, 3600s*24h\n",
    "timestamps_noon = np.zeros(total_number_of_days)\n",
    "for idx, timestamp in enumerate(\n",
    "    range(int(first_day_noon.timestamp()), int(last_day_noon.timestamp()), 3600*24)):\n",
    "    \n",
    "    # get our time frame\n",
    "    start = timestamp - 60*5\n",
    "    end = timestamp + 60*5\n",
    "\n",
    "    time_frame = timestamps.where(\n",
    "        np.logical_and(\n",
    "            timestamps['timestamp'] >= start,\n",
    "            timestamps['timestamp'] <= end) ).dropna()\n",
    "\n",
    "    # when there is no image within this time range, continue with next day\n",
    "    if (time_frame.empty):\n",
    "        continue\n",
    "        \n",
    "    # select closest timestamp\n",
    "    closest_ts_idx = time_frame['timestamp'].sub(timestamp).abs().idxmin()\n",
    "    # save to list\n",
    "    timestamps_noon[idx] = time_frame.loc[closest_ts_idx].values[0]\n",
    "\n",
    "# drop zero values, indicating empty values\n",
    "timestamps_noon = timestamps_noon[timestamps_noon > 0]\n",
    "\n",
    "# add to data frame for convenient csv export\n",
    "timestamps_noon = pd.DataFrame(timestamps_noon, columns = ['timestamp'], dtype = np.int64)\n",
    "print(\"Could find images at noon for {} days.\".format(len(results)))\n",
    "display(timestamps_noon)"
   ]
  },
  {
   "cell_type": "code",
   "execution_count": 92,
   "metadata": {},
   "outputs": [],
   "source": [
    "# write to file\n",
    "timestamps_noon.to_csv(SELECTED_TIMESTAMPS_FILE, header = False, index = False)"
   ]
  },
  {
   "cell_type": "markdown",
   "metadata": {},
   "source": [
    "# Select Images\n",
    "\n",
    "Find images in filesystem and copy to directory\n",
    "\n",
    "```\n",
    "$ xargs -a ~/selected-image-timestamps-noon.txt -L 1 -I# find . -name \"pic_#.jpg\" -exec cp {} selected-images-noon \\;\n",
    "```\n",
    "\n",
    "When find is not compiled with *exec* option do this in two steps\n",
    "\n",
    "```\n",
    "$ xargs -a ~/selected-image-timestamps-noon.txt -L 1 -I# find . -name \"pic_#.jpg\" > selected-images-path-noon.txt\n",
    "$ xargs -a selected-images-path-noon.txt cp -t selected-images-noon\n",
    "```\n",
    "\n",
    "Selected images have been saved in *selected-images-noon* directory and can be used for further processing."
   ]
  }
 ],
 "metadata": {
  "kernelspec": {
   "display_name": "Python 3",
   "language": "python",
   "name": "python3"
  },
  "language_info": {
   "codemirror_mode": {
    "name": "ipython",
    "version": 3
   },
   "file_extension": ".py",
   "mimetype": "text/x-python",
   "name": "python",
   "nbconvert_exporter": "python",
   "pygments_lexer": "ipython3",
   "version": "3.8.5"
  }
 },
 "nbformat": 4,
 "nbformat_minor": 4
}
