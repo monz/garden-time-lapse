{
 "cells": [
  {
   "cell_type": "markdown",
   "metadata": {},
   "source": [
    "# Image Selection\n",
    "\n",
    "Because we have a massive dataset of about 179k images, we do not want to include all of these images into our time-lapse video. For example, some images are too dark, because they were captured early in the morning or in the evening. One can think of some more reasons why not to include all available images in the video. Therefore, we will select a smaller subset for creating our time-lapse video.\n",
    "\n",
    "## How do We Select Images?\n",
    "\n",
    "A very simple approach could be to select one image a day around noon. This seems reasonable, first we get a relatively small subset of the available data, one image a day leads to around 365 images and second, image brightness should be no problem.\n",
    "\n",
    "Other possible approaches:\n",
    "- select multiple images for each day with a given brightness value\n",
    "- select multiple images for each day within a given timeframe, e.g. 9am to 5pm\n",
    "- select multiple images for each day, by selecting the first/last *x* images matching some *condition*\n",
    "\n",
    "and whatever you could think of.\n",
    "\n",
    "But for now, lets start with the first and very simple approach, selecting one image a day around noon."
   ]
  },
  {
   "cell_type": "code",
   "execution_count": 1,
   "metadata": {},
   "outputs": [],
   "source": [
    "import pandas as pd\n",
    "import numpy as np\n",
    "import datetime\n",
    "\n",
    "from src.features import build_features\n",
    "\n",
    "ALL_TIMESTAMPS_FILE = '../data/raw/image-timestamps.txt'\n",
    "SELECTED_TIMESTAMPS_FILE = '../data/processed/selected-image-timestamps-noon.txt'\n",
    "\n",
    "# load all images timestamps from file\n",
    "timestamps = pd.read_csv(\n",
    "    ALL_TIMESTAMPS_FILE,\n",
    "    names = ['timestamp'],\n",
    "    dtype = {'timestamp': np.int64} )"
   ]
  },
  {
   "cell_type": "code",
   "execution_count": 2,
   "metadata": {},
   "outputs": [
    {
     "data": {
      "text/html": [
       "<div>\n",
       "<style scoped>\n",
       "    .dataframe tbody tr th:only-of-type {\n",
       "        vertical-align: middle;\n",
       "    }\n",
       "\n",
       "    .dataframe tbody tr th {\n",
       "        vertical-align: top;\n",
       "    }\n",
       "\n",
       "    .dataframe thead th {\n",
       "        text-align: right;\n",
       "    }\n",
       "</style>\n",
       "<table border=\"1\" class=\"dataframe\">\n",
       "  <thead>\n",
       "    <tr style=\"text-align: right;\">\n",
       "      <th></th>\n",
       "      <th>timestamp</th>\n",
       "    </tr>\n",
       "  </thead>\n",
       "  <tbody>\n",
       "    <tr>\n",
       "      <th>0</th>\n",
       "      <td>1488884432</td>\n",
       "    </tr>\n",
       "    <tr>\n",
       "      <th>1</th>\n",
       "      <td>1488970832</td>\n",
       "    </tr>\n",
       "    <tr>\n",
       "      <th>2</th>\n",
       "      <td>1489057232</td>\n",
       "    </tr>\n",
       "    <tr>\n",
       "      <th>3</th>\n",
       "      <td>1489143632</td>\n",
       "    </tr>\n",
       "    <tr>\n",
       "      <th>4</th>\n",
       "      <td>1489230032</td>\n",
       "    </tr>\n",
       "    <tr>\n",
       "      <th>...</th>\n",
       "      <td>...</td>\n",
       "    </tr>\n",
       "    <tr>\n",
       "      <th>358</th>\n",
       "      <td>1522407658</td>\n",
       "    </tr>\n",
       "    <tr>\n",
       "      <th>359</th>\n",
       "      <td>1522493999</td>\n",
       "    </tr>\n",
       "    <tr>\n",
       "      <th>360</th>\n",
       "      <td>1522580459</td>\n",
       "    </tr>\n",
       "    <tr>\n",
       "      <th>361</th>\n",
       "      <td>1522666799</td>\n",
       "    </tr>\n",
       "    <tr>\n",
       "      <th>362</th>\n",
       "      <td>1522753161</td>\n",
       "    </tr>\n",
       "  </tbody>\n",
       "</table>\n",
       "<p>363 rows × 1 columns</p>\n",
       "</div>"
      ],
      "text/plain": [
       "      timestamp\n",
       "0    1488884432\n",
       "1    1488970832\n",
       "2    1489057232\n",
       "3    1489143632\n",
       "4    1489230032\n",
       "..          ...\n",
       "358  1522407658\n",
       "359  1522493999\n",
       "360  1522580459\n",
       "361  1522666799\n",
       "362  1522753161\n",
       "\n",
       "[363 rows x 1 columns]"
      ]
     },
     "metadata": {},
     "output_type": "display_data"
    }
   ],
   "source": [
    "# for details of get_timestamps_in_range function, see src/data/make_dataset\n",
    "\n",
    "# extract timestamps at noon\n",
    "timestamps_noon = build_features.get_timestamps_in_range(timestamps, 12, 5)\n",
    "\n",
    "display(timestamps_noon)"
   ]
  },
  {
   "cell_type": "code",
   "execution_count": 3,
   "metadata": {},
   "outputs": [],
   "source": [
    "# write to file\n",
    "timestamps_noon.to_csv(SELECTED_TIMESTAMPS_FILE, header = False, index = False)"
   ]
  },
  {
   "cell_type": "markdown",
   "metadata": {},
   "source": [
    "# Prepare Selected Images for Class Prediction\n",
    "\n",
    "Find images in filesystem and copy to directory\n",
    "\n",
    "```\n",
    "$ xargs -a ~/selected-image-timestamps-noon.txt -L 1 -I# find . -name \"pic_#.jpg\" -exec cp {} selected-images-noon \\;\n",
    "```\n",
    "\n",
    "When find is not compiled with *exec* option do this in two steps\n",
    "\n",
    "```\n",
    "$ xargs -a ~/selected-image-timestamps-noon.txt -L 1 -I# find . -name \"pic_#.jpg\" > selected-images-path-noon.txt\n",
    "$ xargs -a selected-images-path-noon.txt cp -t selected-images-noon\n",
    "```\n",
    "\n",
    "Selected images have been saved in *selected-images-noon* directory and can be used for further processing."
   ]
  }
 ],
 "metadata": {
  "kernelspec": {
   "display_name": "Python 3",
   "language": "python",
   "name": "python3"
  },
  "language_info": {
   "codemirror_mode": {
    "name": "ipython",
    "version": 3
   },
   "file_extension": ".py",
   "mimetype": "text/x-python",
   "name": "python",
   "nbconvert_exporter": "python",
   "pygments_lexer": "ipython3",
   "version": "3.8.5"
  }
 },
 "nbformat": 4,
 "nbformat_minor": 4
}
