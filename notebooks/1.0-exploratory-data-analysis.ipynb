{
 "cells": [
  {
   "cell_type": "markdown",
   "metadata": {},
   "source": [
    "# Exploratory Data Analysis\n",
    "------\n",
    "\n",
    "## What Kind of Data do We Have\n",
    "\n",
    "As we saw in the previous notebook, we have some image data, see the examples. The images are saved as JPEG files. Each picture is named with a pattern, **pic_&lt;timestamp-in-seconds&gt;.jpg** e.g. **pic_1492067569.jpg** Also they have some more interesting attributes in their EXIF data, which is listed below."
   ]
  },
  {
   "cell_type": "markdown",
   "metadata": {},
   "source": [
    "<table>\n",
    "<tr>\n",
    "    <td> <figure>\n",
    "        <img src=\"../data/raw/example/open/pic_1492067569.jpg\" width=350/> </figure>\n",
    "        <figcaption>Example 1</figcaption>\n",
    "    </td>\n",
    "    <td>\n",
    "        <img src=\"../data/raw/example/open/pic_1495255809.jpg\" width=350/>\n",
    "        <figcaption>Example 2</figcaption>\n",
    "    </td>\n",
    "</tr>\n",
    "</table>"
   ]
  },
  {
   "cell_type": "markdown",
   "metadata": {},
   "source": [
    "###  EXIF Data\n",
    "\n",
    "This list contians not all but some of the EXIF data found in the images.\n",
    "\n",
    "<table>\n",
    "    <tr>\n",
    "        <th>Attribute</th>\n",
    "        <th>Example Value</th>\n",
    "    </tr>\n",
    "    <tr>\n",
    "        <td>Image resolution (WxH)</td>\n",
    "        <td>2592px x 1944px</td>\n",
    "    </tr>\n",
    "    <tr>\n",
    "        <td>Exposure time</td>\n",
    "        <td>1/51 s</td>\n",
    "    </tr>\n",
    "    <tr>\n",
    "        <td>f-number</td>\n",
    "        <td>f/2.9</td>\n",
    "    </tr>\n",
    "    <tr>\n",
    "        <td>Shutter speed value</td>\n",
    "        <td>5.69 EV</td>\n",
    "    </tr>\n",
    "    <tr>\n",
    "        <td>Arperture value</td>\n",
    "        <td>3.07 EV</td>\n",
    "    </tr>\n",
    "    <tr>\n",
    "        <td>Brightness value</td>\n",
    "        <td>2.67 EV</td>\n",
    "    </tr>\n",
    "    <tr>\n",
    "        <td>Focal length</td>\n",
    "        <td>3.6 mm</td>\n",
    "    </tr>\n",
    "    <tr>\n",
    "        <td>ISO speed rating</td>\n",
    "        <td>100</td>\n",
    "    </tr>\n",
    "</table>"
   ]
  },
  {
   "cell_type": "markdown",
   "metadata": {},
   "source": [
    "### What Else do We Have\n",
    "\n",
    "#### Directory Structure\n",
    "\n",
    "Pictures were captured and saved in an own directory for each day, so the directory structure looks something like this.\n",
    "\n",
    "```\n",
    "$ tree .\n",
    ".\n",
    "├── ...\n",
    "├── 2017-05-07_auto\n",
    "├── 2017-05-08_auto\n",
    "├── 2017-05-09_auto\n",
    "├── 2017-05-10_auto\n",
    "├── ...\n",
    "├── 2017-05-27_auto\n",
    "├── 2017-05-28_auto\n",
    "├── 2017-05-29_auto\n",
    "├── 2017-05-30_auto\n",
    "├── 2017-05-31_auto\n",
    "├── ...\n",
    "├── 2017-08-06_auto\n",
    "├── 2017-12-24_auto\n",
    "├── 2017-12-31_auto\n",
    "│   ├── pic_1514702547.jpg\n",
    "│   ├── pic_1514702617.jpg\n",
    "│   ├── pic_1514702727.jpg\n",
    "│   ├── pic_1514702797.jpg\n",
    "│   ├── pic_1514702879.jpg\n",
    "│   ├── ...\n",
    "└── ...\n",
    "```\n",
    "\n",
    "#### Time Range\n",
    "\n",
    "As mentioned before, images were captured over one year. Starting date is **2017-03-07** and last date is **2018-04-04**, which means we have images showing all four seasons, naming **spring**, **summer**, **autumn** and **winter**, and different weather conditions, see following examples.\n",
    "\n",
    "> Note: Yes, unfortunately the camera was moved a little bit, we have to live with that, I am sorry."
   ]
  },
  {
   "cell_type": "markdown",
   "metadata": {},
   "source": [
    "<table>\n",
    "<tr>\n",
    "    <td>\n",
    "        <img src=\"../data/raw/example/time-range/spring-midday-pic_1492083489.jpg\" width=350/>\n",
    "        <figcaption>Spring</figcaption>\n",
    "    </td>\n",
    "    <td> <figure>\n",
    "        <img src=\"../data/raw/example/time-range/summer-midday-pic_1495800549.jpg\" width=350/> </figure>\n",
    "        <figcaption>Summer</figcaption>\n",
    "    </td>\n",
    "    <td>\n",
    "        <img src=\"../data/raw/example/time-range/autumn-midday-pic_1509968123.jpg\" width=350/>\n",
    "        <figcaption>Autumn</figcaption>\n",
    "    </td>\n",
    "    <td>\n",
    "        <img src=\"../data/raw/example/time-range/winter-midday-pic_1518610019.jpg\" width=350/>\n",
    "        <figcaption>Winter</figcaption>\n",
    "    </td>\n",
    "</tr>\n",
    "</table>"
   ]
  },
  {
   "cell_type": "markdown",
   "metadata": {},
   "source": [
    "#### Time Between Images"
   ]
  },
  {
   "cell_type": "markdown",
   "metadata": {},
   "source": [
    "Just to get an overview for what we have, we want to extract the mean time between captured images. First lets list the top *n* files of an image directory."
   ]
  },
  {
   "cell_type": "code",
   "execution_count": 1,
   "metadata": {},
   "outputs": [
    {
     "name": "stdout",
     "output_type": "stream",
     "text": [
      "../data/raw/raw/2017-05-13_auto/pic_1494657849.jpg\n",
      "../data/raw/raw/2017-05-13_auto/pic_1494699169.jpg\n",
      "../data/raw/raw/2017-05-13_auto/pic_1494664149.jpg\n",
      "../data/raw/raw/2017-05-13_auto/pic_1494648549.jpg\n",
      "../data/raw/raw/2017-05-13_auto/pic_1494689949.jpg\n",
      "../data/raw/raw/2017-05-13_auto/pic_1494696649.jpg\n",
      "../data/raw/raw/2017-05-13_auto/pic_1494646242.jpg\n",
      "../data/raw/raw/2017-05-13_auto/pic_1494662449.jpg\n",
      "../data/raw/raw/2017-05-13_auto/pic_1494694309.jpg\n",
      "../data/raw/raw/2017-05-13_auto/pic_1494692049.jpg\n"
     ]
    }
   ],
   "source": [
    "import os\n",
    "\n",
    "IMG_DIR = \"../data/raw/raw\"\n",
    "FILE_COUNT = 10\n",
    "DIR_COUNT = 1\n",
    "\n",
    "# print first <file_count> directory entries of <dir_count> directories\n",
    "dir_counter = 0\n",
    "for dirpath, dirnames, filenames in os.walk(IMG_DIR, topdown=True):\n",
    "    for idx, file in enumerate(filenames):\n",
    "        if idx < FILE_COUNT:\n",
    "            print(\"{}/{}\".format(dirpath,file))\n",
    "    # only analyze first <dir_count> directories of os.walk\n",
    "    dir_counter += 1\n",
    "    if dir_counter > DIR_COUNT:\n",
    "        break"
   ]
  },
  {
   "cell_type": "markdown",
   "metadata": {},
   "source": [
    "Extract the timestamps from the filenames and calculate statistics for time between two captured images, like **mean**, **std** and **quantiles**."
   ]
  },
  {
   "cell_type": "code",
   "execution_count": 2,
   "metadata": {},
   "outputs": [
    {
     "name": "stdout",
     "output_type": "stream",
     "text": [
      "Mean time between images in ../data/raw/raw: 89.86s (std 16.59s, quartiles in s [ 80.  87. 100. 120.])\n"
     ]
    }
   ],
   "source": [
    "import os\n",
    "import sys\n",
    "import re\n",
    "import numpy as np\n",
    "\n",
    "IMG_DIR = \"../data/raw/raw\"\n",
    "FILE_COUNT = sys.maxsize\n",
    "SUB_DIR_COUNT = 1\n",
    "\n",
    "# define a regex to get the timestamp\n",
    "PATTERN_TIMESTAMP = re.compile(\"^pic_(\\d{10,}).jpg$\")\n",
    "\n",
    "def extract_timestamp_from_filenames(\n",
    "    path, sub_dir_count = 1,\n",
    "    file_count = sys.maxsize,\n",
    "    pattern_timestamp = PATTERN_TIMESTAMP,\n",
    "    pattern_group = 1\n",
    "):\n",
    "    # extract timestamps\n",
    "    dir_counter = 0\n",
    "    timestamps = np.empty(0)\n",
    "    for dirpath, dirnames, filenames in os.walk(path, topdown=True):\n",
    "        # only analyze first <sub_dir_count> directories of os.walk\n",
    "        if dir_counter > sub_dir_count:\n",
    "            break\n",
    "        dir_counter += 1\n",
    "\n",
    "        # extract timestamp\n",
    "        for idx, file in enumerate(filenames):\n",
    "            if idx < file_count:\n",
    "                timestamp = re.match(pattern_timestamp, file).group(pattern_group)\n",
    "                timestamps = np.append(timestamps,timestamp)\n",
    "                # DEBUG:\n",
    "                #print(\"file: {}; found timestamp: {}\".format(file, timestamp))\n",
    "            else:\n",
    "                break\n",
    "    return timestamps\n",
    "\n",
    "def calculate_timestamp_diffs(timestamps):\n",
    "    # bring timestamps in ascending order\n",
    "    sorted_timestamps = np.array(sorted(timestamps))\n",
    "        \n",
    "    return np.diff(sorted_timestamps.astype(int))\n",
    "            \n",
    "def timestamp_diff_statistics(timestamp_diffs):\n",
    "    mean_timestamp = np.mean(timestamp_diffs)\n",
    "    std_timestamp = np.std(timestamp_diffs)\n",
    "    quantiles_timestamp = np.quantile(timestamp_diffs, q=[.25, .5, .75, 1])\n",
    "    return (mean_timestamp, std_timestamp, quantiles_timestamp)\n",
    "\n",
    "\n",
    "## use functions\n",
    "timestamps = extract_timestamp_from_filenames(IMG_DIR, sub_dir_count=SUB_DIR_COUNT, file_count=FILE_COUNT)\n",
    "#timestamps = extract_timestamp_from_filenames(\"../data/raw/raw/2017-05-20_auto\", dir_count=1)\n",
    "timestamp_diffs = calculate_timestamp_diffs(timestamps)\n",
    "\n",
    "ts_mean, ts_std, ts_quantiles = timestamp_diff_statistics(timestamp_diffs)\n",
    "print(\"Mean time between images in {}: {:.2f}s (std {:.2f}s, quartiles in s {})\".format(\n",
    "        IMG_DIR,\n",
    "        ts_mean, ts_std, ts_quantiles)\n",
    ")\n"
   ]
  },
  {
   "cell_type": "code",
   "execution_count": 8,
   "metadata": {
    "scrolled": true
   },
   "outputs": [
    {
     "data": {
      "text/html": [
       "\n",
       "        <iframe\n",
       "            width=\"800\"\n",
       "            height=\"650\"\n",
       "            src=\"http://127.0.0.1:8050/\"\n",
       "            frameborder=\"0\"\n",
       "            allowfullscreen\n",
       "        ></iframe>\n",
       "        "
      ],
      "text/plain": [
       "<IPython.lib.display.IFrame at 0x7f9804867250>"
      ]
     },
     "metadata": {},
     "output_type": "display_data"
    },
    {
     "name": "stdout",
     "output_type": "stream",
     "text": [
      "Path: ../data/raw/raw/2017-05-13_auto\n",
      "Path: ../data/raw/raw/2017-04-14_auto\n"
     ]
    }
   ],
   "source": [
    "import plotly.express as px\n",
    "import dash_core_components as dcc\n",
    "import dash_html_components as html\n",
    "import pandas as pd\n",
    "\n",
    "from jupyter_dash import JupyterDash\n",
    "from dash.dependencies import Input, Output\n",
    "\n",
    "IMG_ROOT_DIR = \"../data/raw/raw\"\n",
    "\n",
    "# get all subdirectories, which can be selected from dropdown\n",
    "day_dates_images_captured = sorted(os.listdir(IMG_ROOT_DIR))\n",
    "\n",
    "# Build App\n",
    "app = JupyterDash(__name__)\n",
    "app.layout = html.Div([\n",
    "    html.H1(\"Time Differences Between Image Captures\"),\n",
    "    dcc.Graph(id='graph'),\n",
    "    html.Label([\n",
    "        \"Capture Date\",\n",
    "        dcc.Dropdown(\n",
    "            id = 'capture-date-dropdown',\n",
    "            clearable = False,\n",
    "            value = '2017-05-13_auto',\n",
    "            options = [\n",
    "                {'label': c, 'value': c}\n",
    "                for c in day_dates_images_captured\n",
    "            ])\n",
    "    ]),\n",
    "])\n",
    "\n",
    "# Define callback to update graph\n",
    "@app.callback(\n",
    "    Output('graph', 'figure'),\n",
    "    [Input(\"capture-date-dropdown\", \"value\")]\n",
    ")\n",
    "\n",
    "def update_figure(capture_date):\n",
    "    # Load Data, use one subdirectory of IMG_ROOT_DIR\n",
    "    path = os.path.sep.join( (IMG_DIR, capture_date) )\n",
    "    timestamps = extract_timestamp_from_filenames(path, sub_dir_count=1)\n",
    "    timestamp_diffs = calculate_timestamp_diffs(timestamps)\n",
    "\n",
    "    # create the bins\n",
    "    #counts, bin_edges = np.histogram(timestamp_diffs, bins=range(0, int(np.max(timestamp_diffs)), 5))\n",
    "    counts, bin_edges = np.histogram(timestamp_diffs, bins=10)\n",
    "    bins = 0.5 * (bin_edges[:-1] + bin_edges[1:])\n",
    "    return px.bar(x=bins, y=counts, labels={'x':'time between captures in seconds', 'y':'count'})\n",
    "    #df = pd.DataFrame(data=timestamp_diffs, columns=[\"diffs\"])\n",
    "    #return px.histogram(df, x=\"diffs\", nbins=10, labels={'diffs':'time between captures in seconds', 'y':'count'})\n",
    "\n",
    "# Run app and display result inline in the notebook\n",
    "## Workaround: set load_dotenv=False to prevent current working directory to be changed, which will break\n",
    "## relative paths, e.g. IMG_DIR\n",
    "## for more information, see https://github.com/pallets/flask/blob/master/src/flask/app.py #function run(...)\n",
    "app.run_server(mode='inline', load_dotenv=False)\n",
    "#app.run_server(mode='inline')\n"
   ]
  }
 ],
 "metadata": {
  "kernelspec": {
   "display_name": "Python 3",
   "language": "python",
   "name": "python3"
  },
  "language_info": {
   "codemirror_mode": {
    "name": "ipython",
    "version": 3
   },
   "file_extension": ".py",
   "mimetype": "text/x-python",
   "name": "python",
   "nbconvert_exporter": "python",
   "pygments_lexer": "ipython3",
   "version": "3.8.3"
  }
 },
 "nbformat": 4,
 "nbformat_minor": 4
}
